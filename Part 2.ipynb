{
 "cells": [
  {
   "cell_type": "code",
   "execution_count": 1,
   "id": "247b6dd7",
   "metadata": {
    "scrolled": true
   },
   "outputs": [
    {
     "name": "stdout",
     "output_type": "stream",
     "text": [
      "10-15th May,2024,Friday work on datasets format.ipynb\r\n",
      "10th June,movie2-Copy1.ipynb\r\n",
      "10th June,movie2.ipynb\r\n",
      "15th April,2024.ipynb\r\n",
      "16th April,2024.ipynb\r\n",
      "17 April 2024, Wednesday.ipynb\r\n",
      "17 June, movie 2.ipynb\r\n",
      "18 April,2024, Thursday.ipynb\r\n",
      "19 April, friday.ipynb\r\n",
      "21 April,2024,sunday.ipynb\r\n",
      "23rd April, Tuesday.ipynb\r\n",
      "24th April, wednesday.ipynb\r\n",
      "25th April,2024, Thursday .ipynb\r\n",
      "26th april,2024, friday.ipynb\r\n",
      "28 April,2024,sunday.ipynb\r\n",
      "29th April, monday.ipynb\r\n",
      "2nd May ,2024, Thursday.ipynb\r\n",
      "5th June, movie.ipynb\r\n",
      "5th May,2024,Sunday.ipynb\r\n",
      "6th may, Monday.ipynb\r\n",
      "7thMay, 2024, Tuesday.ipynb\r\n",
      "8th May,wednesday.ipynb\r\n",
      "9th may, Thursday.ipynb\r\n",
      "\u001b[34mApplications\u001b[m\u001b[m/\r\n",
      "BrainTumor.csv\r\n",
      "Data Engineer Salaries.ipynb\r\n",
      "\u001b[34mDesktop\u001b[m\u001b[m/\r\n",
      "\u001b[34mDocuments\u001b[m\u001b[m/\r\n",
      "\u001b[34mDownloads\u001b[m\u001b[m/\r\n",
      "\u001b[34mHello World\u001b[m\u001b[m/\r\n",
      "\u001b[34mLibrary\u001b[m\u001b[m/\r\n",
      "Machine learning .ipynb\r\n",
      "Mall_Customers.csv\r\n",
      "\u001b[34mMovies\u001b[m\u001b[m/\r\n",
      "\u001b[34mMusic\u001b[m\u001b[m/\r\n",
      "Numpy assignment.ipynb\r\n",
      "\u001b[34mPictures\u001b[m\u001b[m/\r\n",
      "\u001b[34mPublic\u001b[m\u001b[m/\r\n",
      "Seattle2014.csv\r\n",
      "Untitled.ipynb\r\n",
      "Untitled1.ipynb\r\n",
      "WLD_RTFP_country_2023-10-02.csv\r\n",
      "WLD_RTP_details_2023-10-02.csv\r\n",
      "animal data.ipynb\r\n",
      "c4_epa_air_quality.csv\r\n",
      "california_cities.csv\r\n",
      "children-per-woman-un new.csv\r\n",
      "climate_dataset_groupwork.ipynb\r\n",
      "education .csv\r\n",
      "education.csv\r\n",
      "fixed 1.ipynb\r\n",
      "food dataset intermediate level.ipynb\r\n",
      "food.ipynb\r\n",
      "homework 2.ipynb\r\n",
      "homework baisakh 1-7.ipynb\r\n",
      "installing from library and importing.ipynb\r\n",
      "insurance data fixed.ipynb\r\n",
      "insurance data.csv\r\n",
      "iris.csv\r\n",
      "iris.data.csv\r\n",
      "k-mean.ipynb\r\n",
      "marketing_and_sales.csv\r\n",
      "modified_data.csv\r\n",
      "modified_data.xlsx\r\n",
      "movies.csv\r\n",
      "onlinefoods.csv\r\n",
      "planets.csv\r\n",
      "practice from beginning.ipynb\r\n",
      "president_heights.csv\r\n",
      "\u001b[34mpython day 1-3\u001b[m\u001b[m/\r\n",
      "salaries (2).csv\r\n",
      "stat new .ipynb\r\n",
      "stat.ipynb\r\n",
      "state-abbrevs.csv\r\n",
      "state-areas.csv\r\n",
      "state-population.csv\r\n",
      "travel_tourism_dataset.csv\r\n",
      "votes .ipynb\r\n"
     ]
    }
   ],
   "source": [
    "ls"
   ]
  },
  {
   "cell_type": "code",
   "execution_count": 2,
   "id": "8a234b32",
   "metadata": {},
   "outputs": [],
   "source": [
    "import pandas as pd\n",
    "import numpy as np\n",
    "import matplotlib.pyplot as plt\n",
    "import seaborn as sns"
   ]
  },
  {
   "cell_type": "code",
   "execution_count": 3,
   "id": "fc7bbe7c",
   "metadata": {},
   "outputs": [],
   "source": [
    "movie2=pd.read_csv('modified_data.csv')"
   ]
  },
  {
   "cell_type": "code",
   "execution_count": 4,
   "id": "75b2c690",
   "metadata": {},
   "outputs": [
    {
     "data": {
      "text/plain": [
       "(9568, 8)"
      ]
     },
     "execution_count": 4,
     "metadata": {},
     "output_type": "execute_result"
    }
   ],
   "source": [
    "movie2.shape"
   ]
  },
  {
   "cell_type": "code",
   "execution_count": 5,
   "id": "7a5e403c",
   "metadata": {},
   "outputs": [
    {
     "data": {
      "text/html": [
       "<div>\n",
       "<style scoped>\n",
       "    .dataframe tbody tr th:only-of-type {\n",
       "        vertical-align: middle;\n",
       "    }\n",
       "\n",
       "    .dataframe tbody tr th {\n",
       "        vertical-align: top;\n",
       "    }\n",
       "\n",
       "    .dataframe thead th {\n",
       "        text-align: right;\n",
       "    }\n",
       "</style>\n",
       "<table border=\"1\" class=\"dataframe\">\n",
       "  <thead>\n",
       "    <tr style=\"text-align: right;\">\n",
       "      <th></th>\n",
       "      <th>MOVIES</th>\n",
       "      <th>YEAR</th>\n",
       "      <th>GENRE</th>\n",
       "      <th>RATING</th>\n",
       "      <th>ONE-LINE</th>\n",
       "      <th>STARS</th>\n",
       "      <th>VOTES</th>\n",
       "      <th>RunTime</th>\n",
       "    </tr>\n",
       "  </thead>\n",
       "  <tbody>\n",
       "    <tr>\n",
       "      <th>0</th>\n",
       "      <td>Scarface</td>\n",
       "      <td>1932.0</td>\n",
       "      <td>\\nAction, Crime, Drama</td>\n",
       "      <td>7.8</td>\n",
       "      <td>\\nAn ambitious and nearly insane violent gangs...</td>\n",
       "      <td>\\n    Directors:\\nHoward Hawks, \\nRichard Ross...</td>\n",
       "      <td>26,365</td>\n",
       "      <td>93.0</td>\n",
       "    </tr>\n",
       "    <tr>\n",
       "      <th>1</th>\n",
       "      <td>Söderkåkar</td>\n",
       "      <td>1932.0</td>\n",
       "      <td>\\nComedy</td>\n",
       "      <td>5.3</td>\n",
       "      <td>\\nThe movie version of Gideon Wahlbergs comedy...</td>\n",
       "      <td>\\n    Director:\\nWeyler Hildebrand\\n| \\n    St...</td>\n",
       "      <td>59</td>\n",
       "      <td>87.0</td>\n",
       "    </tr>\n",
       "    <tr>\n",
       "      <th>2</th>\n",
       "      <td>Kära släkten</td>\n",
       "      <td>1933.0</td>\n",
       "      <td>\\nComedy</td>\n",
       "      <td>5.4</td>\n",
       "      <td>\\nThe story about a Stockholm wholesaler and h...</td>\n",
       "      <td>\\n    Director:\\nGustaf Molander\\n| \\n    Star...</td>\n",
       "      <td>36</td>\n",
       "      <td>94.0</td>\n",
       "    </tr>\n",
       "    <tr>\n",
       "      <th>3</th>\n",
       "      <td>Karriär</td>\n",
       "      <td>1938.0</td>\n",
       "      <td>\\nDrama</td>\n",
       "      <td>5.2</td>\n",
       "      <td>\\nA traveling theater company in Sweden. Confl...</td>\n",
       "      <td>\\n    Director:\\nSchamyl Bauman\\n| \\n    Stars...</td>\n",
       "      <td>52</td>\n",
       "      <td>106.0</td>\n",
       "    </tr>\n",
       "    <tr>\n",
       "      <th>4</th>\n",
       "      <td>Dumbo</td>\n",
       "      <td>1941.0</td>\n",
       "      <td>\\nAnimation, Adventure, Drama</td>\n",
       "      <td>7.2</td>\n",
       "      <td>\\nRidiculed because of his enormous ears, a yo...</td>\n",
       "      <td>\\n    Directors:\\nSamuel Armstrong, \\nNorman F...</td>\n",
       "      <td>124,409</td>\n",
       "      <td>64.0</td>\n",
       "    </tr>\n",
       "  </tbody>\n",
       "</table>\n",
       "</div>"
      ],
      "text/plain": [
       "         MOVIES    YEAR                                      GENRE  RATING  \\\n",
       "0      Scarface  1932.0         \\nAction, Crime, Drama                 7.8   \n",
       "1    Söderkåkar  1932.0                       \\nComedy                 5.3   \n",
       "2  Kära släkten  1933.0                       \\nComedy                 5.4   \n",
       "3       Karriär  1938.0                        \\nDrama                 5.2   \n",
       "4         Dumbo  1941.0  \\nAnimation, Adventure, Drama                 7.2   \n",
       "\n",
       "                                            ONE-LINE  \\\n",
       "0  \\nAn ambitious and nearly insane violent gangs...   \n",
       "1  \\nThe movie version of Gideon Wahlbergs comedy...   \n",
       "2  \\nThe story about a Stockholm wholesaler and h...   \n",
       "3  \\nA traveling theater company in Sweden. Confl...   \n",
       "4  \\nRidiculed because of his enormous ears, a yo...   \n",
       "\n",
       "                                               STARS    VOTES  RunTime  \n",
       "0  \\n    Directors:\\nHoward Hawks, \\nRichard Ross...   26,365     93.0  \n",
       "1  \\n    Director:\\nWeyler Hildebrand\\n| \\n    St...       59     87.0  \n",
       "2  \\n    Director:\\nGustaf Molander\\n| \\n    Star...       36     94.0  \n",
       "3  \\n    Director:\\nSchamyl Bauman\\n| \\n    Stars...       52    106.0  \n",
       "4  \\n    Directors:\\nSamuel Armstrong, \\nNorman F...  124,409     64.0  "
      ]
     },
     "execution_count": 5,
     "metadata": {},
     "output_type": "execute_result"
    }
   ],
   "source": [
    "movie2.head()"
   ]
  },
  {
   "cell_type": "code",
   "execution_count": 6,
   "id": "4ee8738e",
   "metadata": {},
   "outputs": [
    {
     "data": {
      "text/plain": [
       "MOVIES         0\n",
       "YEAR           0\n",
       "GENRE         78\n",
       "RATING      1400\n",
       "ONE-LINE       0\n",
       "STARS          0\n",
       "VOTES       1400\n",
       "RunTime     2560\n",
       "dtype: int64"
      ]
     },
     "execution_count": 6,
     "metadata": {},
     "output_type": "execute_result"
    }
   ],
   "source": [
    "movie2.isnull().sum()"
   ]
  },
  {
   "cell_type": "code",
   "execution_count": 7,
   "id": "ae5e7f80",
   "metadata": {},
   "outputs": [
    {
     "data": {
      "text/plain": [
       "0    \\nComedy            \n",
       "Name: GENRE, dtype: object"
      ]
     },
     "execution_count": 7,
     "metadata": {},
     "output_type": "execute_result"
    }
   ],
   "source": [
    "# since the null value of genre is merely 0.8%, we can drop it \n",
    "# we can also replace null values with 'Unknown'\n",
    "# but lets replace it with the most repeated genre\n",
    "repeated_genre=movie2['GENRE'].mode()\n",
    "repeated_genre"
   ]
  },
  {
   "cell_type": "code",
   "execution_count": 8,
   "id": "84551d75",
   "metadata": {},
   "outputs": [
    {
     "data": {
      "text/plain": [
       "'\\nComedy            '"
      ]
     },
     "execution_count": 8,
     "metadata": {},
     "output_type": "execute_result"
    }
   ],
   "source": [
    "repeated_genre2=movie2['GENRE'].mode()[0]\n",
    "repeated_genre2\n",
    "#previous code gives series, not applicable to replace na as we need single value"
   ]
  },
  {
   "cell_type": "code",
   "execution_count": 9,
   "id": "b0e2c590",
   "metadata": {},
   "outputs": [],
   "source": [
    "movie2['GENRE'].fillna(repeated_genre2,inplace=True)"
   ]
  },
  {
   "cell_type": "code",
   "execution_count": 10,
   "id": "ebede218",
   "metadata": {},
   "outputs": [
    {
     "data": {
      "text/plain": [
       "0"
      ]
     },
     "execution_count": 10,
     "metadata": {},
     "output_type": "execute_result"
    }
   ],
   "source": [
    "movie2['GENRE'].isnull().sum()"
   ]
  },
  {
   "cell_type": "code",
   "execution_count": 11,
   "id": "8e936aba",
   "metadata": {},
   "outputs": [
    {
     "data": {
      "text/plain": [
       "MOVIES         0\n",
       "YEAR           0\n",
       "GENRE          0\n",
       "RATING      1400\n",
       "ONE-LINE       0\n",
       "STARS          0\n",
       "VOTES       1400\n",
       "RunTime     2560\n",
       "dtype: int64"
      ]
     },
     "execution_count": 11,
     "metadata": {},
     "output_type": "execute_result"
    }
   ],
   "source": [
    "movie2.isnull().sum()"
   ]
  },
  {
   "cell_type": "code",
   "execution_count": 12,
   "id": "463fac65",
   "metadata": {},
   "outputs": [
    {
     "data": {
      "text/plain": [
       "(9568, 8)"
      ]
     },
     "execution_count": 12,
     "metadata": {},
     "output_type": "execute_result"
    }
   ],
   "source": [
    "movie2.shape"
   ]
  },
  {
   "cell_type": "code",
   "execution_count": 13,
   "id": "35c3d7f6",
   "metadata": {},
   "outputs": [
    {
     "data": {
      "image/png": "[encoded data removed]",
      "text/plain": [
       "<Figure size 1000x600 with 1 Axes>"
      ]
     },
     "metadata": {},
     "output_type": "display_data"
    }
   ],
   "source": [
    "plt.figure(figsize=(10,6))\n",
    "sns.boxplot(x='RATING',data = movie2)\n",
    "plt.show()"
   ]
  },
  {
   "cell_type": "code",
   "execution_count": 14,
   "id": "13d4cf02",
   "metadata": {},
   "outputs": [
    {
     "data": {
      "image/png": "[encoded data removed]",
      "text/plain": [
       "<Figure size 1000x600 with 1 Axes>"
      ]
     },
     "metadata": {},
     "output_type": "display_data"
    }
   ],
   "source": [
    "movie2['RATING'].plot(kind='density',figsize=(10,6))\n",
    "plt.title('Density of Rating')\n",
    "plt.xlabel('Rating')\n",
    "plt.ylabel('Density')\n",
    "plt.show() "
   ]
  },
  {
   "cell_type": "code",
   "execution_count": 15,
   "id": "4929c063",
   "metadata": {},
   "outputs": [
    {
     "data": {
      "text/html": [
       "<div>\n",
       "<style scoped>\n",
       "    .dataframe tbody tr th:only-of-type {\n",
       "        vertical-align: middle;\n",
       "    }\n",
       "\n",
       "    .dataframe tbody tr th {\n",
       "        vertical-align: top;\n",
       "    }\n",
       "\n",
       "    .dataframe thead th {\n",
       "        text-align: right;\n",
       "    }\n",
       "</style>\n",
       "<table border=\"1\" class=\"dataframe\">\n",
       "  <thead>\n",
       "    <tr style=\"text-align: right;\">\n",
       "      <th></th>\n",
       "      <th>MOVIES</th>\n",
       "      <th>YEAR</th>\n",
       "      <th>GENRE</th>\n",
       "      <th>RATING</th>\n",
       "      <th>ONE-LINE</th>\n",
       "      <th>STARS</th>\n",
       "      <th>VOTES</th>\n",
       "      <th>RunTime</th>\n",
       "    </tr>\n",
       "  </thead>\n",
       "  <tbody>\n",
       "    <tr>\n",
       "      <th>0</th>\n",
       "      <td>Scarface</td>\n",
       "      <td>1932.0</td>\n",
       "      <td>\\nAction, Crime, Drama</td>\n",
       "      <td>7.8</td>\n",
       "      <td>\\nAn ambitious and nearly insane violent gangs...</td>\n",
       "      <td>\\n    Directors:\\nHoward Hawks, \\nRichard Ross...</td>\n",
       "      <td>26,365</td>\n",
       "      <td>93.0</td>\n",
       "    </tr>\n",
       "    <tr>\n",
       "      <th>1</th>\n",
       "      <td>Söderkåkar</td>\n",
       "      <td>1932.0</td>\n",
       "      <td>\\nComedy</td>\n",
       "      <td>5.3</td>\n",
       "      <td>\\nThe movie version of Gideon Wahlbergs comedy...</td>\n",
       "      <td>\\n    Director:\\nWeyler Hildebrand\\n| \\n    St...</td>\n",
       "      <td>59</td>\n",
       "      <td>87.0</td>\n",
       "    </tr>\n",
       "    <tr>\n",
       "      <th>2</th>\n",
       "      <td>Kära släkten</td>\n",
       "      <td>1933.0</td>\n",
       "      <td>\\nComedy</td>\n",
       "      <td>5.4</td>\n",
       "      <td>\\nThe story about a Stockholm wholesaler and h...</td>\n",
       "      <td>\\n    Director:\\nGustaf Molander\\n| \\n    Star...</td>\n",
       "      <td>36</td>\n",
       "      <td>94.0</td>\n",
       "    </tr>\n",
       "    <tr>\n",
       "      <th>3</th>\n",
       "      <td>Karriär</td>\n",
       "      <td>1938.0</td>\n",
       "      <td>\\nDrama</td>\n",
       "      <td>5.2</td>\n",
       "      <td>\\nA traveling theater company in Sweden. Confl...</td>\n",
       "      <td>\\n    Director:\\nSchamyl Bauman\\n| \\n    Stars...</td>\n",
       "      <td>52</td>\n",
       "      <td>106.0</td>\n",
       "    </tr>\n",
       "    <tr>\n",
       "      <th>4</th>\n",
       "      <td>Dumbo</td>\n",
       "      <td>1941.0</td>\n",
       "      <td>\\nAnimation, Adventure, Drama</td>\n",
       "      <td>7.2</td>\n",
       "      <td>\\nRidiculed because of his enormous ears, a yo...</td>\n",
       "      <td>\\n    Directors:\\nSamuel Armstrong, \\nNorman F...</td>\n",
       "      <td>124,409</td>\n",
       "      <td>64.0</td>\n",
       "    </tr>\n",
       "  </tbody>\n",
       "</table>\n",
       "</div>"
      ],
      "text/plain": [
       "         MOVIES    YEAR                                      GENRE  RATING  \\\n",
       "0      Scarface  1932.0         \\nAction, Crime, Drama                 7.8   \n",
       "1    Söderkåkar  1932.0                       \\nComedy                 5.3   \n",
       "2  Kära släkten  1933.0                       \\nComedy                 5.4   \n",
       "3       Karriär  1938.0                        \\nDrama                 5.2   \n",
       "4         Dumbo  1941.0  \\nAnimation, Adventure, Drama                 7.2   \n",
       "\n",
       "                                            ONE-LINE  \\\n",
       "0  \\nAn ambitious and nearly insane violent gangs...   \n",
       "1  \\nThe movie version of Gideon Wahlbergs comedy...   \n",
       "2  \\nThe story about a Stockholm wholesaler and h...   \n",
       "3  \\nA traveling theater company in Sweden. Confl...   \n",
       "4  \\nRidiculed because of his enormous ears, a yo...   \n",
       "\n",
       "                                               STARS    VOTES  RunTime  \n",
       "0  \\n    Directors:\\nHoward Hawks, \\nRichard Ross...   26,365     93.0  \n",
       "1  \\n    Director:\\nWeyler Hildebrand\\n| \\n    St...       59     87.0  \n",
       "2  \\n    Director:\\nGustaf Molander\\n| \\n    Star...       36     94.0  \n",
       "3  \\n    Director:\\nSchamyl Bauman\\n| \\n    Stars...       52    106.0  \n",
       "4  \\n    Directors:\\nSamuel Armstrong, \\nNorman F...  124,409     64.0  "
      ]
     },
     "execution_count": 15,
     "metadata": {},
     "output_type": "execute_result"
    }
   ],
   "source": [
    "movie2.head()"
   ]
  },
  {
   "cell_type": "code",
   "execution_count": 16,
   "id": "febdec4f",
   "metadata": {},
   "outputs": [
    {
     "data": {
      "text/html": [
       "<div>\n",
       "<style scoped>\n",
       "    .dataframe tbody tr th:only-of-type {\n",
       "        vertical-align: middle;\n",
       "    }\n",
       "\n",
       "    .dataframe tbody tr th {\n",
       "        vertical-align: top;\n",
       "    }\n",
       "\n",
       "    .dataframe thead th {\n",
       "        text-align: right;\n",
       "    }\n",
       "</style>\n",
       "<table border=\"1\" class=\"dataframe\">\n",
       "  <thead>\n",
       "    <tr style=\"text-align: right;\">\n",
       "      <th></th>\n",
       "      <th>MOVIES</th>\n",
       "      <th>YEAR</th>\n",
       "      <th>GENRE</th>\n",
       "      <th>RATING</th>\n",
       "      <th>ONE-LINE</th>\n",
       "      <th>STARS</th>\n",
       "      <th>VOTES</th>\n",
       "      <th>RunTime</th>\n",
       "    </tr>\n",
       "  </thead>\n",
       "  <tbody>\n",
       "    <tr>\n",
       "      <th>56</th>\n",
       "      <td>Nu jing cha</td>\n",
       "      <td>1973.0</td>\n",
       "      <td>\\nAction, Crime</td>\n",
       "      <td>3.6</td>\n",
       "      <td>\\nHo Mei Fong is a young woman in trouble, run...</td>\n",
       "      <td>\\n    Director:\\nMu Chu\\n| \\n    Stars:\\nCharl...</td>\n",
       "      <td>1,446</td>\n",
       "      <td>80.0</td>\n",
       "    </tr>\n",
       "    <tr>\n",
       "      <th>152</th>\n",
       "      <td>Evicted</td>\n",
       "      <td>1999.0</td>\n",
       "      <td>\\nComedy</td>\n",
       "      <td>3.8</td>\n",
       "      <td>\\n24 hours in the lives of three L.A. youths d...</td>\n",
       "      <td>\\n    Director:\\nMichael Tierney\\n| \\n    Star...</td>\n",
       "      <td>80</td>\n",
       "      <td>99.0</td>\n",
       "    </tr>\n",
       "    <tr>\n",
       "      <th>181</th>\n",
       "      <td>Taboo</td>\n",
       "      <td>2002.0</td>\n",
       "      <td>\\nDrama, Horror, Mystery</td>\n",
       "      <td>3.6</td>\n",
       "      <td>\\nWhile staying at a secluded mansion, six you...</td>\n",
       "      <td>\\n    Director:\\nMax Makowski\\n| \\n    Stars:\\...</td>\n",
       "      <td>1,860</td>\n",
       "      <td>80.0</td>\n",
       "    </tr>\n",
       "    <tr>\n",
       "      <th>226</th>\n",
       "      <td>James</td>\n",
       "      <td>2005.0</td>\n",
       "      <td>\\nAction, Romance</td>\n",
       "      <td>3.6</td>\n",
       "      <td>\\nA story of a young man's quest to avenge the...</td>\n",
       "      <td>\\n    Director:\\nRohit Jugraj\\n| \\n    Stars:\\...</td>\n",
       "      <td>340</td>\n",
       "      <td>NaN</td>\n",
       "    </tr>\n",
       "    <tr>\n",
       "      <th>246</th>\n",
       "      <td>The Adventures of Sharkboy and Lavagirl 3-D</td>\n",
       "      <td>2005.0</td>\n",
       "      <td>\\nAction, Adventure, Comedy</td>\n",
       "      <td>3.7</td>\n",
       "      <td>\\nA young boy is recruited by his imaginary fr...</td>\n",
       "      <td>\\n    Director:\\nRobert Rodriguez\\n| \\n    Sta...</td>\n",
       "      <td>34,853</td>\n",
       "      <td>93.0</td>\n",
       "    </tr>\n",
       "    <tr>\n",
       "      <th>...</th>\n",
       "      <td>...</td>\n",
       "      <td>...</td>\n",
       "      <td>...</td>\n",
       "      <td>...</td>\n",
       "      <td>...</td>\n",
       "      <td>...</td>\n",
       "      <td>...</td>\n",
       "      <td>...</td>\n",
       "    </tr>\n",
       "    <tr>\n",
       "      <th>7940</th>\n",
       "      <td>Black Privilege</td>\n",
       "      <td>2023.0</td>\n",
       "      <td>\\nFamily</td>\n",
       "      <td>3.3</td>\n",
       "      <td>\\nWhen low-income families move into a thrivin...</td>\n",
       "      <td>\\n    Director:\\nMark Harris\\n| \\n    Stars:\\n...</td>\n",
       "      <td>205</td>\n",
       "      <td>79.0</td>\n",
       "    </tr>\n",
       "    <tr>\n",
       "      <th>8013</th>\n",
       "      <td>Heebie Jeebies</td>\n",
       "      <td>2023.0</td>\n",
       "      <td>\\nHorror</td>\n",
       "      <td>3.4</td>\n",
       "      <td>\\nWhen a haunted gold mine is reopened after a...</td>\n",
       "      <td>\\n    Director:\\nThomas L. Callaway\\n| \\n    S...</td>\n",
       "      <td>486</td>\n",
       "      <td>85.0</td>\n",
       "    </tr>\n",
       "    <tr>\n",
       "      <th>8114</th>\n",
       "      <td>Chichipatos: ¡Qué chimba de Navidad!</td>\n",
       "      <td>2023.0</td>\n",
       "      <td>\\nComedy, Drama</td>\n",
       "      <td>3.3</td>\n",
       "      <td>\\nBefore the events of S1, Juanquini, El Ñato ...</td>\n",
       "      <td>\\n    Director:\\nJuan Camilo Pinzon\\n| \\n    S...</td>\n",
       "      <td>108</td>\n",
       "      <td>82.0</td>\n",
       "    </tr>\n",
       "    <tr>\n",
       "      <th>8605</th>\n",
       "      <td>LEGO Friends: Happy Birthday to You!</td>\n",
       "      <td>2023.0</td>\n",
       "      <td>\\nAnimation, Short</td>\n",
       "      <td>3.6</td>\n",
       "      <td>\\nSurprise. The gang's all here to celebrate y...</td>\n",
       "      <td>\\n</td>\n",
       "      <td>5</td>\n",
       "      <td>1.0</td>\n",
       "    </tr>\n",
       "    <tr>\n",
       "      <th>8616</th>\n",
       "      <td>Meeting a Bullet</td>\n",
       "      <td>2023.0</td>\n",
       "      <td>\\nCrime</td>\n",
       "      <td>3.8</td>\n",
       "      <td>\\nA dirty cop accuses a young individual of a ...</td>\n",
       "      <td>\\n    Director:\\nDouglas Elford-Argent\\n| \\n  ...</td>\n",
       "      <td>115</td>\n",
       "      <td>75.0</td>\n",
       "    </tr>\n",
       "  </tbody>\n",
       "</table>\n",
       "<p>165 rows × 8 columns</p>\n",
       "</div>"
      ],
      "text/plain": [
       "                                           MOVIES    YEAR  \\\n",
       "56                                    Nu jing cha  1973.0   \n",
       "152                                       Evicted  1999.0   \n",
       "181                                         Taboo  2002.0   \n",
       "226                                         James  2005.0   \n",
       "246   The Adventures of Sharkboy and Lavagirl 3-D  2005.0   \n",
       "...                                           ...     ...   \n",
       "7940                              Black Privilege  2023.0   \n",
       "8013                               Heebie Jeebies  2023.0   \n",
       "8114         Chichipatos: ¡Qué chimba de Navidad!  2023.0   \n",
       "8605         LEGO Friends: Happy Birthday to You!  2023.0   \n",
       "8616                             Meeting a Bullet  2023.0   \n",
       "\n",
       "                                        GENRE  RATING  \\\n",
       "56                \\nAction, Crime                 3.6   \n",
       "152                      \\nComedy                 3.8   \n",
       "181      \\nDrama, Horror, Mystery                 3.6   \n",
       "226             \\nAction, Romance                 3.6   \n",
       "246   \\nAction, Adventure, Comedy                 3.7   \n",
       "...                                       ...     ...   \n",
       "7940                     \\nFamily                 3.3   \n",
       "8013                     \\nHorror                 3.4   \n",
       "8114              \\nComedy, Drama                 3.3   \n",
       "8605           \\nAnimation, Short                 3.6   \n",
       "8616                      \\nCrime                 3.8   \n",
       "\n",
       "                                               ONE-LINE  \\\n",
       "56    \\nHo Mei Fong is a young woman in trouble, run...   \n",
       "152   \\n24 hours in the lives of three L.A. youths d...   \n",
       "181   \\nWhile staying at a secluded mansion, six you...   \n",
       "226   \\nA story of a young man's quest to avenge the...   \n",
       "246   \\nA young boy is recruited by his imaginary fr...   \n",
       "...                                                 ...   \n",
       "7940  \\nWhen low-income families move into a thrivin...   \n",
       "8013  \\nWhen a haunted gold mine is reopened after a...   \n",
       "8114  \\nBefore the events of S1, Juanquini, El Ñato ...   \n",
       "8605  \\nSurprise. The gang's all here to celebrate y...   \n",
       "8616  \\nA dirty cop accuses a young individual of a ...   \n",
       "\n",
       "                                                  STARS   VOTES  RunTime  \n",
       "56    \\n    Director:\\nMu Chu\\n| \\n    Stars:\\nCharl...   1,446     80.0  \n",
       "152   \\n    Director:\\nMichael Tierney\\n| \\n    Star...      80     99.0  \n",
       "181   \\n    Director:\\nMax Makowski\\n| \\n    Stars:\\...   1,860     80.0  \n",
       "226   \\n    Director:\\nRohit Jugraj\\n| \\n    Stars:\\...     340      NaN  \n",
       "246   \\n    Director:\\nRobert Rodriguez\\n| \\n    Sta...  34,853     93.0  \n",
       "...                                                 ...     ...      ...  \n",
       "7940  \\n    Director:\\nMark Harris\\n| \\n    Stars:\\n...     205     79.0  \n",
       "8013  \\n    Director:\\nThomas L. Callaway\\n| \\n    S...     486     85.0  \n",
       "8114  \\n    Director:\\nJuan Camilo Pinzon\\n| \\n    S...     108     82.0  \n",
       "8605                                                 \\n       5      1.0  \n",
       "8616  \\n    Director:\\nDouglas Elford-Argent\\n| \\n  ...     115     75.0  \n",
       "\n",
       "[165 rows x 8 columns]"
      ]
     },
     "execution_count": 16,
     "metadata": {},
     "output_type": "execute_result"
    }
   ],
   "source": [
    "Q1 = movie2['RATING'].quantile(0.25)\n",
    "Q3 = movie2['RATING'].quantile(0.75)\n",
    "IQR = Q3 - Q1\n",
    "lower_bound = Q1 - 1.5 * IQR\n",
    "upper_bound = Q3 + 1.5 * IQR\n",
    "outliers = movie2[(movie2['RATING'] < lower_bound) | (movie2['RATING'] > upper_bound)]\n",
    "outliers\n"
   ]
  },
  {
   "cell_type": "code",
   "execution_count": 17,
   "id": "e1a808c6",
   "metadata": {},
   "outputs": [
    {
     "data": {
      "text/plain": [
       "MOVIES                                            Nu jing cha\n",
       "YEAR                                                   1973.0\n",
       "GENRE                             \\nAction, Crime            \n",
       "RATING                                                    3.6\n",
       "ONE-LINE    \\nHo Mei Fong is a young woman in trouble, run...\n",
       "STARS       \\n    Director:\\nMu Chu\\n| \\n    Stars:\\nCharl...\n",
       "VOTES                                                   1,446\n",
       "RunTime                                                  80.0\n",
       "Name: 56, dtype: object"
      ]
     },
     "execution_count": 17,
     "metadata": {},
     "output_type": "execute_result"
    }
   ],
   "source": [
    "movie2.iloc[56]\n",
    "#lets check the authencity of the oultliers of rating"
   ]
  },
  {
   "cell_type": "code",
   "execution_count": 18,
   "id": "0c0c6471",
   "metadata": {},
   "outputs": [
    {
     "data": {
      "text/plain": [
       "MOVIES                                        Black Privilege\n",
       "YEAR                                                   2023.0\n",
       "GENRE                                    \\nFamily            \n",
       "RATING                                                    3.3\n",
       "ONE-LINE    \\nWhen low-income families move into a thrivin...\n",
       "STARS       \\n    Director:\\nMark Harris\\n| \\n    Stars:\\n...\n",
       "VOTES                                                     205\n",
       "RunTime                                                  79.0\n",
       "Name: 7940, dtype: object"
      ]
     },
     "execution_count": 18,
     "metadata": {},
     "output_type": "execute_result"
    }
   ],
   "source": [
    "movie2.iloc[7940]"
   ]
  },
  {
   "cell_type": "code",
   "execution_count": 19,
   "id": "79d98bfc",
   "metadata": {},
   "outputs": [
    {
     "data": {
      "text/plain": [
       "MOVIES                                                  James\n",
       "YEAR                                                   2005.0\n",
       "GENRE                           \\nAction, Romance            \n",
       "RATING                                                    3.6\n",
       "ONE-LINE    \\nA story of a young man's quest to avenge the...\n",
       "STARS       \\n    Director:\\nRohit Jugraj\\n| \\n    Stars:\\...\n",
       "VOTES                                                     340\n",
       "RunTime                                                   NaN\n",
       "Name: 226, dtype: object"
      ]
     },
     "execution_count": 19,
     "metadata": {},
     "output_type": "execute_result"
    }
   ],
   "source": [
    "movie2.iloc[226]\n",
    "# the ratings are correct"
   ]
  },
  {
   "cell_type": "code",
   "execution_count": 20,
   "id": "9b0beb57",
   "metadata": {},
   "outputs": [
    {
     "data": {
      "text/plain": [
       "1.7244983277591972"
      ]
     },
     "execution_count": 20,
     "metadata": {},
     "output_type": "execute_result"
    }
   ],
   "source": [
    "total_observations = len(movie2)\n",
    "total_outliers = len(outliers)\n",
    "percentage_outliers = (total_outliers / total_observations) * 100\n",
    "percentage_outliers"
   ]
  },
  {
   "cell_type": "code",
   "execution_count": 21,
   "id": "6b88b2d3",
   "metadata": {},
   "outputs": [
    {
     "data": {
      "text/plain": [
       "3.8"
      ]
     },
     "execution_count": 21,
     "metadata": {},
     "output_type": "execute_result"
    }
   ],
   "source": [
    "outliers['RATING'].max()"
   ]
  },
  {
   "cell_type": "code",
   "execution_count": 22,
   "id": "43e7bc7c",
   "metadata": {},
   "outputs": [
    {
     "data": {
      "text/plain": [
       "1.1"
      ]
     },
     "execution_count": 22,
     "metadata": {},
     "output_type": "execute_result"
    }
   ],
   "source": [
    "outliers['RATING'].min()"
   ]
  },
  {
   "cell_type": "code",
   "execution_count": 23,
   "id": "bf1838d4",
   "metadata": {},
   "outputs": [
    {
     "data": {
      "text/plain": [
       "6.919698824681684"
      ]
     },
     "execution_count": 23,
     "metadata": {},
     "output_type": "execute_result"
    }
   ],
   "source": [
    "mean_rating=movie2['RATING'].mean()\n",
    "mean_rating\n",
    "# we can see the total outliers percentage is about 1.72%\n",
    "# Also the outliers fall betn 1.1-3.8 which is far from the mean value 6.91 which might be \n",
    "# the reason that led them to consider the lowest value(ratings) as outliers"
   ]
  },
  {
   "cell_type": "code",
   "execution_count": 24,
   "id": "9c8ec482",
   "metadata": {},
   "outputs": [
    {
     "data": {
      "text/plain": [
       "-0.701776450422828"
      ]
     },
     "execution_count": 24,
     "metadata": {},
     "output_type": "execute_result"
    }
   ],
   "source": [
    "skew_rating = movie2['RATING'].skew()\n",
    "skew_rating"
   ]
  },
  {
   "cell_type": "code",
   "execution_count": 25,
   "id": "4ca4aa19",
   "metadata": {},
   "outputs": [
    {
     "data": {
      "text/plain": [
       "7.1"
      ]
     },
     "execution_count": 25,
     "metadata": {},
     "output_type": "execute_result"
    }
   ],
   "source": [
    "# since the data is left skewed, we will fill na with median values\n",
    "median_rating = movie2['RATING'].median()\n",
    "median_rating"
   ]
  },
  {
   "cell_type": "code",
   "execution_count": 26,
   "id": "eddcc31b",
   "metadata": {},
   "outputs": [],
   "source": [
    "movie2['RATING'].fillna(median_rating,inplace = True)"
   ]
  },
  {
   "cell_type": "code",
   "execution_count": 27,
   "id": "a1d2f362",
   "metadata": {},
   "outputs": [
    {
     "data": {
      "text/plain": [
       "0"
      ]
     },
     "execution_count": 27,
     "metadata": {},
     "output_type": "execute_result"
    }
   ],
   "source": [
    "movie2['RATING'].isnull().sum()"
   ]
  },
  {
   "cell_type": "code",
   "execution_count": 28,
   "id": "3a4e22a6",
   "metadata": {},
   "outputs": [
    {
     "data": {
      "text/plain": [
       "MOVIES         0\n",
       "YEAR           0\n",
       "GENRE          0\n",
       "RATING         0\n",
       "ONE-LINE       0\n",
       "STARS          0\n",
       "VOTES       1400\n",
       "RunTime     2560\n",
       "dtype: int64"
      ]
     },
     "execution_count": 28,
     "metadata": {},
     "output_type": "execute_result"
    }
   ],
   "source": [
    "movie2.isnull().sum()"
   ]
  },
  {
   "cell_type": "code",
   "execution_count": 29,
   "id": "4207eb77",
   "metadata": {},
   "outputs": [
    {
     "data": {
      "text/plain": [
       "0        26,365\n",
       "1            59\n",
       "2            36\n",
       "3            52\n",
       "4       124,409\n",
       "         ...   \n",
       "9563        NaN\n",
       "9564        NaN\n",
       "9565        980\n",
       "9566        NaN\n",
       "9567        911\n",
       "Name: VOTES, Length: 9568, dtype: object"
      ]
     },
     "execution_count": 29,
     "metadata": {},
     "output_type": "execute_result"
    }
   ],
   "source": [
    "movie2['VOTES']\n",
    "#since python is case sensitive, the comma in 26,365 resulted in a string type\n",
    "#lets deal with it first"
   ]
  },
  {
   "cell_type": "code",
   "execution_count": 30,
   "id": "f1da309a",
   "metadata": {},
   "outputs": [],
   "source": [
    "movie2['VOTES'] = movie2['VOTES'].str.replace(',','')"
   ]
  },
  {
   "cell_type": "code",
   "execution_count": 31,
   "id": "bad69e01",
   "metadata": {},
   "outputs": [
    {
     "data": {
      "text/plain": [
       "0        26365\n",
       "1           59\n",
       "2           36\n",
       "3           52\n",
       "4       124409\n",
       "         ...  \n",
       "9563       NaN\n",
       "9564       NaN\n",
       "9565       980\n",
       "9566       NaN\n",
       "9567       911\n",
       "Name: VOTES, Length: 9568, dtype: object"
      ]
     },
     "execution_count": 31,
     "metadata": {},
     "output_type": "execute_result"
    }
   ],
   "source": [
    "movie2['VOTES']"
   ]
  },
  {
   "cell_type": "code",
   "execution_count": 32,
   "id": "daffc25c",
   "metadata": {},
   "outputs": [
    {
     "data": {
      "text/plain": [
       "array(['26365', '59', '36', ..., '3404', '980', '911'], dtype=object)"
      ]
     },
     "execution_count": 32,
     "metadata": {},
     "output_type": "execute_result"
    }
   ],
   "source": [
    "movie2['VOTES'].unique()"
   ]
  },
  {
   "cell_type": "code",
   "execution_count": 33,
   "id": "aea2a55d",
   "metadata": {},
   "outputs": [],
   "source": [
    "#type is still object as the numbers are in string \n",
    "#convert to numeric type \n",
    "movie2['VOTES'] = pd.to_numeric(movie2['VOTES'], errors='coerce')\n",
    "movie2['VOTES'] = movie2['VOTES'].astype('Int64')"
   ]
  },
  {
   "cell_type": "code",
   "execution_count": 34,
   "id": "b740e205",
   "metadata": {},
   "outputs": [
    {
     "data": {
      "text/plain": [
       "0        26365\n",
       "1           59\n",
       "2           36\n",
       "3           52\n",
       "4       124409\n",
       "         ...  \n",
       "9563      <NA>\n",
       "9564      <NA>\n",
       "9565       980\n",
       "9566      <NA>\n",
       "9567       911\n",
       "Name: VOTES, Length: 9568, dtype: Int64"
      ]
     },
     "execution_count": 34,
     "metadata": {},
     "output_type": "execute_result"
    }
   ],
   "source": [
    "movie2['VOTES']"
   ]
  },
  {
   "cell_type": "code",
   "execution_count": 35,
   "id": "f3544631",
   "metadata": {},
   "outputs": [
    {
     "data": {
      "image/png": "[encoded data removed]",
      "text/plain": [
       "<Figure size 1000x600 with 1 Axes>"
      ]
     },
     "metadata": {},
     "output_type": "display_data"
    }
   ],
   "source": [
    "movie2['VOTES'].plot(kind='density',figsize=(10,6))\n",
    "plt.title('Density of Voting')\n",
    "plt.xlabel('Voting')\n",
    "plt.ylabel('Density')\n",
    "plt.show()"
   ]
  },
  {
   "cell_type": "code",
   "execution_count": 36,
   "id": "120e2f90",
   "metadata": {},
   "outputs": [
    {
     "data": {
      "text/html": [
       "<div>\n",
       "<style scoped>\n",
       "    .dataframe tbody tr th:only-of-type {\n",
       "        vertical-align: middle;\n",
       "    }\n",
       "\n",
       "    .dataframe tbody tr th {\n",
       "        vertical-align: top;\n",
       "    }\n",
       "\n",
       "    .dataframe thead th {\n",
       "        text-align: right;\n",
       "    }\n",
       "</style>\n",
       "<table border=\"1\" class=\"dataframe\">\n",
       "  <thead>\n",
       "    <tr style=\"text-align: right;\">\n",
       "      <th></th>\n",
       "      <th>MOVIES</th>\n",
       "      <th>YEAR</th>\n",
       "      <th>GENRE</th>\n",
       "      <th>RATING</th>\n",
       "      <th>ONE-LINE</th>\n",
       "      <th>STARS</th>\n",
       "      <th>VOTES</th>\n",
       "      <th>RunTime</th>\n",
       "    </tr>\n",
       "  </thead>\n",
       "  <tbody>\n",
       "    <tr>\n",
       "      <th>0</th>\n",
       "      <td>Scarface</td>\n",
       "      <td>1932.0</td>\n",
       "      <td>\\nAction, Crime, Drama</td>\n",
       "      <td>7.8</td>\n",
       "      <td>\\nAn ambitious and nearly insane violent gangs...</td>\n",
       "      <td>\\n    Directors:\\nHoward Hawks, \\nRichard Ross...</td>\n",
       "      <td>26365</td>\n",
       "      <td>93.0</td>\n",
       "    </tr>\n",
       "    <tr>\n",
       "      <th>4</th>\n",
       "      <td>Dumbo</td>\n",
       "      <td>1941.0</td>\n",
       "      <td>\\nAnimation, Adventure, Drama</td>\n",
       "      <td>7.2</td>\n",
       "      <td>\\nRidiculed because of his enormous ears, a yo...</td>\n",
       "      <td>\\n    Directors:\\nSamuel Armstrong, \\nNorman F...</td>\n",
       "      <td>124409</td>\n",
       "      <td>64.0</td>\n",
       "    </tr>\n",
       "    <tr>\n",
       "      <th>10</th>\n",
       "      <td>The Stranger</td>\n",
       "      <td>1946.0</td>\n",
       "      <td>\\nCrime, Drama, Film-Noir</td>\n",
       "      <td>7.4</td>\n",
       "      <td>\\nAn investigator from the War Crimes Commissi...</td>\n",
       "      <td>\\n    Director:\\nOrson Welles\\n| \\n    Stars:\\...</td>\n",
       "      <td>25188</td>\n",
       "      <td>95.0</td>\n",
       "    </tr>\n",
       "    <tr>\n",
       "      <th>15</th>\n",
       "      <td>Winchester '73</td>\n",
       "      <td>1950.0</td>\n",
       "      <td>\\nAction, Drama, Western</td>\n",
       "      <td>7.6</td>\n",
       "      <td>\\nA cowboy's obsession with a stolen rifle lea...</td>\n",
       "      <td>\\n    Director:\\nAnthony Mann\\n| \\n    Stars:\\...</td>\n",
       "      <td>18670</td>\n",
       "      <td>92.0</td>\n",
       "    </tr>\n",
       "    <tr>\n",
       "      <th>29</th>\n",
       "      <td>The Ten Commandments</td>\n",
       "      <td>1956.0</td>\n",
       "      <td>\\nAdventure, Drama</td>\n",
       "      <td>7.9</td>\n",
       "      <td>\\nMoses, an Egyptian Prince, learns of his tru...</td>\n",
       "      <td>\\n    Director:\\nCecil B. DeMille\\n| \\n    Sta...</td>\n",
       "      <td>66532</td>\n",
       "      <td>220.0</td>\n",
       "    </tr>\n",
       "    <tr>\n",
       "      <th>...</th>\n",
       "      <td>...</td>\n",
       "      <td>...</td>\n",
       "      <td>...</td>\n",
       "      <td>...</td>\n",
       "      <td>...</td>\n",
       "      <td>...</td>\n",
       "      <td>...</td>\n",
       "      <td>...</td>\n",
       "    </tr>\n",
       "    <tr>\n",
       "      <th>9386</th>\n",
       "      <td>Dark</td>\n",
       "      <td>2023.0</td>\n",
       "      <td>\\nCrime, Drama, Mystery</td>\n",
       "      <td>9.4</td>\n",
       "      <td>\\nIn 2020, a visitor delivers a warning to Cla...</td>\n",
       "      <td>\\n    Director:\\nBaran bo Odar\\n| \\n    Stars:...</td>\n",
       "      <td>11905</td>\n",
       "      <td>64.0</td>\n",
       "    </tr>\n",
       "    <tr>\n",
       "      <th>9387</th>\n",
       "      <td>Dark</td>\n",
       "      <td>2023.0</td>\n",
       "      <td>\\nCrime, Drama, Mystery</td>\n",
       "      <td>9.3</td>\n",
       "      <td>\\nAdam holds Martha captive in 2020. On the da...</td>\n",
       "      <td>\\n    Director:\\nBaran bo Odar\\n| \\n    Stars:...</td>\n",
       "      <td>11525</td>\n",
       "      <td>59.0</td>\n",
       "    </tr>\n",
       "    <tr>\n",
       "      <th>9388</th>\n",
       "      <td>Dark</td>\n",
       "      <td>2023.0</td>\n",
       "      <td>\\nCrime, Drama, Mystery</td>\n",
       "      <td>9.6</td>\n",
       "      <td>\\nAcross three centuries, residents of Winden ...</td>\n",
       "      <td>\\n    Director:\\nBaran bo Odar\\n| \\n    Stars:...</td>\n",
       "      <td>15128</td>\n",
       "      <td>69.0</td>\n",
       "    </tr>\n",
       "    <tr>\n",
       "      <th>9389</th>\n",
       "      <td>Dark</td>\n",
       "      <td>2023.0</td>\n",
       "      <td>\\nCrime, Drama, Mystery</td>\n",
       "      <td>9.7</td>\n",
       "      <td>\\nClaudia reveals to Adam how everything is co...</td>\n",
       "      <td>\\n    Director:\\nBaran bo Odar\\n| \\n    Stars:...</td>\n",
       "      <td>20230</td>\n",
       "      <td>73.0</td>\n",
       "    </tr>\n",
       "    <tr>\n",
       "      <th>9550</th>\n",
       "      <td>Dexter</td>\n",
       "      <td>2023.0</td>\n",
       "      <td>\\nCrime, Drama, Mystery</td>\n",
       "      <td>9.8</td>\n",
       "      <td>\\nDexter and Arthur find themselves on a colli...</td>\n",
       "      <td>\\n    Director:\\nSteve Shill\\n| \\n    Stars:\\n...</td>\n",
       "      <td>11638</td>\n",
       "      <td>51.0</td>\n",
       "    </tr>\n",
       "  </tbody>\n",
       "</table>\n",
       "<p>1298 rows × 8 columns</p>\n",
       "</div>"
      ],
      "text/plain": [
       "                    MOVIES    YEAR                                      GENRE  \\\n",
       "0                 Scarface  1932.0         \\nAction, Crime, Drama               \n",
       "4                    Dumbo  1941.0  \\nAnimation, Adventure, Drama               \n",
       "10            The Stranger  1946.0      \\nCrime, Drama, Film-Noir               \n",
       "15          Winchester '73  1950.0       \\nAction, Drama, Western               \n",
       "29    The Ten Commandments  1956.0             \\nAdventure, Drama               \n",
       "...                    ...     ...                                        ...   \n",
       "9386                  Dark  2023.0        \\nCrime, Drama, Mystery               \n",
       "9387                  Dark  2023.0        \\nCrime, Drama, Mystery               \n",
       "9388                  Dark  2023.0        \\nCrime, Drama, Mystery               \n",
       "9389                  Dark  2023.0        \\nCrime, Drama, Mystery               \n",
       "9550                Dexter  2023.0        \\nCrime, Drama, Mystery               \n",
       "\n",
       "      RATING                                           ONE-LINE  \\\n",
       "0        7.8  \\nAn ambitious and nearly insane violent gangs...   \n",
       "4        7.2  \\nRidiculed because of his enormous ears, a yo...   \n",
       "10       7.4  \\nAn investigator from the War Crimes Commissi...   \n",
       "15       7.6  \\nA cowboy's obsession with a stolen rifle lea...   \n",
       "29       7.9  \\nMoses, an Egyptian Prince, learns of his tru...   \n",
       "...      ...                                                ...   \n",
       "9386     9.4  \\nIn 2020, a visitor delivers a warning to Cla...   \n",
       "9387     9.3  \\nAdam holds Martha captive in 2020. On the da...   \n",
       "9388     9.6  \\nAcross three centuries, residents of Winden ...   \n",
       "9389     9.7  \\nClaudia reveals to Adam how everything is co...   \n",
       "9550     9.8  \\nDexter and Arthur find themselves on a colli...   \n",
       "\n",
       "                                                  STARS   VOTES  RunTime  \n",
       "0     \\n    Directors:\\nHoward Hawks, \\nRichard Ross...   26365     93.0  \n",
       "4     \\n    Directors:\\nSamuel Armstrong, \\nNorman F...  124409     64.0  \n",
       "10    \\n    Director:\\nOrson Welles\\n| \\n    Stars:\\...   25188     95.0  \n",
       "15    \\n    Director:\\nAnthony Mann\\n| \\n    Stars:\\...   18670     92.0  \n",
       "29    \\n    Director:\\nCecil B. DeMille\\n| \\n    Sta...   66532    220.0  \n",
       "...                                                 ...     ...      ...  \n",
       "9386  \\n    Director:\\nBaran bo Odar\\n| \\n    Stars:...   11905     64.0  \n",
       "9387  \\n    Director:\\nBaran bo Odar\\n| \\n    Stars:...   11525     59.0  \n",
       "9388  \\n    Director:\\nBaran bo Odar\\n| \\n    Stars:...   15128     69.0  \n",
       "9389  \\n    Director:\\nBaran bo Odar\\n| \\n    Stars:...   20230     73.0  \n",
       "9550  \\n    Director:\\nSteve Shill\\n| \\n    Stars:\\n...   11638     51.0  \n",
       "\n",
       "[1298 rows x 8 columns]"
      ]
     },
     "execution_count": 36,
     "metadata": {},
     "output_type": "execute_result"
    }
   ],
   "source": [
    "Q1 = movie2['VOTES'].quantile(0.25)\n",
    "Q3 = movie2['VOTES'].quantile(0.75)\n",
    "IQR = Q3 - Q1\n",
    "lower_bound = Q1 - 1.5 * IQR\n",
    "upper_bound = Q3 + 1.5 * IQR\n",
    "voters_outliers = movie2[(movie2['VOTES'] < lower_bound) | (movie2['VOTES'] > upper_bound)]\n",
    "voters_outliers"
   ]
  },
  {
   "cell_type": "code",
   "execution_count": 37,
   "id": "893a5ce6",
   "metadata": {},
   "outputs": [
    {
     "data": {
      "text/plain": [
       "13.566053511705686"
      ]
     },
     "execution_count": 37,
     "metadata": {},
     "output_type": "execute_result"
    }
   ],
   "source": [
    "observations = len(movie2)\n",
    "total_voters_outliers = len(voters_outliers)\n",
    "percentage_voters_outliers = (total_voters_outliers / observations) * 100\n",
    "percentage_voters_outliers"
   ]
  },
  {
   "cell_type": "code",
   "execution_count": 38,
   "id": "c50ef380",
   "metadata": {},
   "outputs": [
    {
     "data": {
      "text/plain": [
       "11.494636391779755"
      ]
     },
     "execution_count": 38,
     "metadata": {},
     "output_type": "execute_result"
    }
   ],
   "source": [
    "movie2['VOTES'].skew()"
   ]
  },
  {
   "cell_type": "code",
   "execution_count": 39,
   "id": "5072ec15",
   "metadata": {},
   "outputs": [
    {
     "data": {
      "text/html": [
       "<div>\n",
       "<style scoped>\n",
       "    .dataframe tbody tr th:only-of-type {\n",
       "        vertical-align: middle;\n",
       "    }\n",
       "\n",
       "    .dataframe tbody tr th {\n",
       "        vertical-align: top;\n",
       "    }\n",
       "\n",
       "    .dataframe thead th {\n",
       "        text-align: right;\n",
       "    }\n",
       "</style>\n",
       "<table border=\"1\" class=\"dataframe\">\n",
       "  <thead>\n",
       "    <tr style=\"text-align: right;\">\n",
       "      <th></th>\n",
       "      <th>MOVIES</th>\n",
       "      <th>YEAR</th>\n",
       "      <th>GENRE</th>\n",
       "      <th>RATING</th>\n",
       "      <th>ONE-LINE</th>\n",
       "      <th>STARS</th>\n",
       "      <th>VOTES</th>\n",
       "      <th>RunTime</th>\n",
       "    </tr>\n",
       "  </thead>\n",
       "  <tbody>\n",
       "    <tr>\n",
       "      <th>6623</th>\n",
       "      <td>The Walking Dead</td>\n",
       "      <td>2023.0</td>\n",
       "      <td>\\nDrama, Horror, Thriller</td>\n",
       "      <td>8.2</td>\n",
       "      <td>\\nSheriff Deputy Rick Grimes wakes up from a c...</td>\n",
       "      <td>\\n            \\n    Stars:\\nAndrew Lincoln, \\n...</td>\n",
       "      <td>885805</td>\n",
       "      <td>44.0</td>\n",
       "    </tr>\n",
       "    <tr>\n",
       "      <th>6624</th>\n",
       "      <td>Dexter</td>\n",
       "      <td>2023.0</td>\n",
       "      <td>\\nCrime, Drama, Mystery</td>\n",
       "      <td>8.6</td>\n",
       "      <td>\\nBy day, mild-mannered Dexter is a blood-spat...</td>\n",
       "      <td>\\n            \\n    Stars:\\nMichael C. Hall, \\...</td>\n",
       "      <td>665387</td>\n",
       "      <td>53.0</td>\n",
       "    </tr>\n",
       "    <tr>\n",
       "      <th>6625</th>\n",
       "      <td>Lucifer</td>\n",
       "      <td>2023.0</td>\n",
       "      <td>\\nCrime, Drama, Fantasy</td>\n",
       "      <td>8.1</td>\n",
       "      <td>\\nLucifer Morningstar has decided he's had eno...</td>\n",
       "      <td>\\n            \\n    Stars:\\nTom Ellis, \\nLesle...</td>\n",
       "      <td>264222</td>\n",
       "      <td>42.0</td>\n",
       "    </tr>\n",
       "    <tr>\n",
       "      <th>6626</th>\n",
       "      <td>Breaking Bad</td>\n",
       "      <td>2023.0</td>\n",
       "      <td>\\nCrime, Drama, Thriller</td>\n",
       "      <td>9.4</td>\n",
       "      <td>\\nA high school chemistry teacher diagnosed wi...</td>\n",
       "      <td>\\n            \\n    Stars:\\nBryan Cranston, \\n...</td>\n",
       "      <td>1552311</td>\n",
       "      <td>49.0</td>\n",
       "    </tr>\n",
       "    <tr>\n",
       "      <th>6627</th>\n",
       "      <td>Atypical</td>\n",
       "      <td>2023.0</td>\n",
       "      <td>\\nComedy, Drama</td>\n",
       "      <td>8.3</td>\n",
       "      <td>\\nSam, an 18-year-old on the autism spectrum, ...</td>\n",
       "      <td>\\n            \\n    Stars:\\nJennifer Jason Lei...</td>\n",
       "      <td>71544</td>\n",
       "      <td>30.0</td>\n",
       "    </tr>\n",
       "    <tr>\n",
       "      <th>...</th>\n",
       "      <td>...</td>\n",
       "      <td>...</td>\n",
       "      <td>...</td>\n",
       "      <td>...</td>\n",
       "      <td>...</td>\n",
       "      <td>...</td>\n",
       "      <td>...</td>\n",
       "      <td>...</td>\n",
       "    </tr>\n",
       "    <tr>\n",
       "      <th>9386</th>\n",
       "      <td>Dark</td>\n",
       "      <td>2023.0</td>\n",
       "      <td>\\nCrime, Drama, Mystery</td>\n",
       "      <td>9.4</td>\n",
       "      <td>\\nIn 2020, a visitor delivers a warning to Cla...</td>\n",
       "      <td>\\n    Director:\\nBaran bo Odar\\n| \\n    Stars:...</td>\n",
       "      <td>11905</td>\n",
       "      <td>64.0</td>\n",
       "    </tr>\n",
       "    <tr>\n",
       "      <th>9387</th>\n",
       "      <td>Dark</td>\n",
       "      <td>2023.0</td>\n",
       "      <td>\\nCrime, Drama, Mystery</td>\n",
       "      <td>9.3</td>\n",
       "      <td>\\nAdam holds Martha captive in 2020. On the da...</td>\n",
       "      <td>\\n    Director:\\nBaran bo Odar\\n| \\n    Stars:...</td>\n",
       "      <td>11525</td>\n",
       "      <td>59.0</td>\n",
       "    </tr>\n",
       "    <tr>\n",
       "      <th>9388</th>\n",
       "      <td>Dark</td>\n",
       "      <td>2023.0</td>\n",
       "      <td>\\nCrime, Drama, Mystery</td>\n",
       "      <td>9.6</td>\n",
       "      <td>\\nAcross three centuries, residents of Winden ...</td>\n",
       "      <td>\\n    Director:\\nBaran bo Odar\\n| \\n    Stars:...</td>\n",
       "      <td>15128</td>\n",
       "      <td>69.0</td>\n",
       "    </tr>\n",
       "    <tr>\n",
       "      <th>9389</th>\n",
       "      <td>Dark</td>\n",
       "      <td>2023.0</td>\n",
       "      <td>\\nCrime, Drama, Mystery</td>\n",
       "      <td>9.7</td>\n",
       "      <td>\\nClaudia reveals to Adam how everything is co...</td>\n",
       "      <td>\\n    Director:\\nBaran bo Odar\\n| \\n    Stars:...</td>\n",
       "      <td>20230</td>\n",
       "      <td>73.0</td>\n",
       "    </tr>\n",
       "    <tr>\n",
       "      <th>9550</th>\n",
       "      <td>Dexter</td>\n",
       "      <td>2023.0</td>\n",
       "      <td>\\nCrime, Drama, Mystery</td>\n",
       "      <td>9.8</td>\n",
       "      <td>\\nDexter and Arthur find themselves on a colli...</td>\n",
       "      <td>\\n    Director:\\nSteve Shill\\n| \\n    Stars:\\n...</td>\n",
       "      <td>11638</td>\n",
       "      <td>51.0</td>\n",
       "    </tr>\n",
       "  </tbody>\n",
       "</table>\n",
       "<p>413 rows × 8 columns</p>\n",
       "</div>"
      ],
      "text/plain": [
       "                MOVIES    YEAR                                  GENRE  RATING  \\\n",
       "6623  The Walking Dead  2023.0  \\nDrama, Horror, Thriller                 8.2   \n",
       "6624            Dexter  2023.0    \\nCrime, Drama, Mystery                 8.6   \n",
       "6625           Lucifer  2023.0    \\nCrime, Drama, Fantasy                 8.1   \n",
       "6626      Breaking Bad  2023.0   \\nCrime, Drama, Thriller                 9.4   \n",
       "6627          Atypical  2023.0            \\nComedy, Drama                 8.3   \n",
       "...                ...     ...                                    ...     ...   \n",
       "9386              Dark  2023.0    \\nCrime, Drama, Mystery                 9.4   \n",
       "9387              Dark  2023.0    \\nCrime, Drama, Mystery                 9.3   \n",
       "9388              Dark  2023.0    \\nCrime, Drama, Mystery                 9.6   \n",
       "9389              Dark  2023.0    \\nCrime, Drama, Mystery                 9.7   \n",
       "9550            Dexter  2023.0    \\nCrime, Drama, Mystery                 9.8   \n",
       "\n",
       "                                               ONE-LINE  \\\n",
       "6623  \\nSheriff Deputy Rick Grimes wakes up from a c...   \n",
       "6624  \\nBy day, mild-mannered Dexter is a blood-spat...   \n",
       "6625  \\nLucifer Morningstar has decided he's had eno...   \n",
       "6626  \\nA high school chemistry teacher diagnosed wi...   \n",
       "6627  \\nSam, an 18-year-old on the autism spectrum, ...   \n",
       "...                                                 ...   \n",
       "9386  \\nIn 2020, a visitor delivers a warning to Cla...   \n",
       "9387  \\nAdam holds Martha captive in 2020. On the da...   \n",
       "9388  \\nAcross three centuries, residents of Winden ...   \n",
       "9389  \\nClaudia reveals to Adam how everything is co...   \n",
       "9550  \\nDexter and Arthur find themselves on a colli...   \n",
       "\n",
       "                                                  STARS    VOTES  RunTime  \n",
       "6623  \\n            \\n    Stars:\\nAndrew Lincoln, \\n...   885805     44.0  \n",
       "6624  \\n            \\n    Stars:\\nMichael C. Hall, \\...   665387     53.0  \n",
       "6625  \\n            \\n    Stars:\\nTom Ellis, \\nLesle...   264222     42.0  \n",
       "6626  \\n            \\n    Stars:\\nBryan Cranston, \\n...  1552311     49.0  \n",
       "6627  \\n            \\n    Stars:\\nJennifer Jason Lei...    71544     30.0  \n",
       "...                                                 ...      ...      ...  \n",
       "9386  \\n    Director:\\nBaran bo Odar\\n| \\n    Stars:...    11905     64.0  \n",
       "9387  \\n    Director:\\nBaran bo Odar\\n| \\n    Stars:...    11525     59.0  \n",
       "9388  \\n    Director:\\nBaran bo Odar\\n| \\n    Stars:...    15128     69.0  \n",
       "9389  \\n    Director:\\nBaran bo Odar\\n| \\n    Stars:...    20230     73.0  \n",
       "9550  \\n    Director:\\nSteve Shill\\n| \\n    Stars:\\n...    11638     51.0  \n",
       "\n",
       "[413 rows x 8 columns]"
      ]
     },
     "execution_count": 39,
     "metadata": {},
     "output_type": "execute_result"
    }
   ],
   "source": [
    " voters_outliers[voters_outliers['YEAR'] == 2023]\n",
    "#trying to check if outliers were for previous year only or for lastest timline as well"
   ]
  },
  {
   "cell_type": "code",
   "execution_count": 40,
   "id": "a029bba4",
   "metadata": {},
   "outputs": [
    {
     "data": {
      "text/plain": [
       "MOVIES                                                   Dark\n",
       "YEAR                                                   2023.0\n",
       "GENRE                     \\nCrime, Drama, Mystery            \n",
       "RATING                                                    9.6\n",
       "ONE-LINE    \\nAcross three centuries, residents of Winden ...\n",
       "STARS       \\n    Director:\\nBaran bo Odar\\n| \\n    Stars:...\n",
       "VOTES                                                   15128\n",
       "RunTime                                                  69.0\n",
       "Name: 9388, dtype: object"
      ]
     },
     "execution_count": 40,
     "metadata": {},
     "output_type": "execute_result"
    }
   ],
   "source": [
    "movie2.iloc[9388]"
   ]
  },
  {
   "cell_type": "code",
   "execution_count": 41,
   "id": "c1849e14",
   "metadata": {},
   "outputs": [],
   "source": [
    "#after lots and lots of trial and errors \n",
    "#processes like capping, winsorizing, transformation and whatnot, \n",
    "#the outliers rather kept on increasing \n",
    "#so the data had to be checked one by one(sampling mostly)"
   ]
  },
  {
   "cell_type": "code",
   "execution_count": 42,
   "id": "fb66718e",
   "metadata": {},
   "outputs": [
    {
     "data": {
      "text/plain": [
       "array(['\\nAction, Crime, Drama            ',\n",
       "       '\\nAnimation, Adventure, Drama            ',\n",
       "       '\\nCrime, Drama, Film-Noir            ',\n",
       "       '\\nAction, Drama, Western            ',\n",
       "       '\\nAdventure, Drama            ', '\\nHorror, Sci-Fi            ',\n",
       "       '\\nAdventure, Biography, Drama            ',\n",
       "       '\\nComedy, Drama, Romance            ',\n",
       "       '\\nCrime, Drama            ',\n",
       "       '\\nAdventure, Comedy, Crime            ',\n",
       "       '\\nBiography, Drama, History            ',\n",
       "       '\\nDrama, Horror            ', '\\nAdventure, Sci-Fi            ',\n",
       "       '\\nAction, Drama, History            ',\n",
       "       '\\nAction, Comedy, Crime            ',\n",
       "       '\\nFamily, Fantasy, Musical            ',\n",
       "       '\\nDrama, Romance            ',\n",
       "       '\\nAdventure, Comedy, Fantasy            ',\n",
       "       '\\nAdventure, Thriller            ',\n",
       "       '\\nAdventure, Horror, Thriller            ',\n",
       "       '\\nComedy            ', '\\nMusical, Romance            ',\n",
       "       '\\nAction, Comedy            ',\n",
       "       '\\nAction, Adventure, Comedy            ',\n",
       "       '\\nDrama, Music, Romance            ',\n",
       "       '\\nAnimation, Adventure, Fantasy            ',\n",
       "       '\\nDrama, Thriller            ',\n",
       "       '\\nAnimation, Family, Fantasy            ',\n",
       "       '\\nComedy, Drama            ', '\\nComedy, Crime            ',\n",
       "       '\\nAction, Crime, Mystery            ',\n",
       "       '\\nAction, Western            ',\n",
       "       '\\nAnimation, Drama, Romance            ',\n",
       "       '\\nAnimation, Adventure, Comedy            ',\n",
       "       '\\nAction, Adventure, Sci-Fi            ',\n",
       "       '\\nDrama, Mystery, Thriller            ',\n",
       "       '\\nDrama, History, Western            ',\n",
       "       '\\nAnimation, Comedy, Drama            ',\n",
       "       '\\nCrime, Drama, Mystery            ',\n",
       "       '\\nAnimation, Drama, Family            ',\n",
       "       '\\nComedy, Romance            ',\n",
       "       '\\nAction, Romance, Thriller            ',\n",
       "       '\\nComedy, Sci-Fi            ',\n",
       "       '\\nAnimation, Action, Drama            ',\n",
       "       '\\nAnimation, Action, Adventure            ',\n",
       "       '\\nAnimation, Comedy            ',\n",
       "       '\\nDrama, Mystery, Sci-Fi            ',\n",
       "       '\\nAnimation, Comedy, Family            ',\n",
       "       '\\nComedy, Crime, Drama            ',\n",
       "       '\\nAction, Adventure, Drama            ',\n",
       "       '\\nAnimation, Adventure, Family            ',\n",
       "       '\\nAdventure, Comedy, Reality-TV            ',\n",
       "       '\\nCrime, Thriller            ',\n",
       "       '\\nDrama, Mystery, Romance            ',\n",
       "       '\\nComedy, Family, Romance            ',\n",
       "       '\\nAction, Crime, Thriller            ',\n",
       "       '\\nBiography, Crime, Drama            ',\n",
       "       '\\nAdventure, Comedy, Drama            ',\n",
       "       '\\nHorror, Mystery, Thriller            ',\n",
       "       '\\nAction, Horror, Sci-Fi            ',\n",
       "       '\\nGame-Show, Reality-TV            ', '\\nDocumentary            ',\n",
       "       '\\nAction, Drama            ',\n",
       "       '\\nDrama, Thriller, War            ',\n",
       "       '\\nDrama, Music, Musical            ',\n",
       "       '\\nCrime, Drama, Music            ',\n",
       "       '\\nCrime, Drama, Thriller            ',\n",
       "       '\\nAction, Biography, Drama            ',\n",
       "       '\\nDrama, Horror, Thriller            ',\n",
       "       '\\nAction, Adventure, War            ',\n",
       "       '\\nAction, Adventure, Fantasy            ',\n",
       "       '\\nAction, Adventure, Crime            ',\n",
       "       '\\nAction, Comedy, War            ',\n",
       "       '\\nComedy, Drama, Music            ',\n",
       "       '\\nAnimation, Short, Drama            ',\n",
       "       '\\nDrama, Sci-Fi, Thriller            ',\n",
       "       '\\nDrama, History, War            ',\n",
       "       '\\nAnimation, Action, Comedy            ',\n",
       "       '\\nBiography, Drama, Family            ', '\\nHorror            ',\n",
       "       '\\nBiography, Drama            ', '\\nDrama            ',\n",
       "       '\\nBiography, Drama, Romance            ', '\\nAction            ',\n",
       "       '\\nAction, Comedy, Romance            ',\n",
       "       '\\nComedy, Crime, Thriller            ',\n",
       "       '\\nAction, Fantasy, Western            ',\n",
       "       '\\nAction, Adventure, Thriller            ',\n",
       "       '\\nComedy, Fantasy, Romance            ',\n",
       "       '\\nAction, Drama, War            ',\n",
       "       '\\nBiography, Drama, Sport            ',\n",
       "       '\\nComedy, Reality-TV            ',\n",
       "       '\\nAction, Drama, Thriller            ',\n",
       "       '\\nAction, Adventure, Biography            ',\n",
       "       '\\nAdventure, Drama, Mystery            ',\n",
       "       '\\nFantasy, Horror, Mystery            ',\n",
       "       '\\nHorror, Thriller            ',\n",
       "       '\\nComedy, Fantasy, Horror            ',\n",
       "       '\\nMystery, Thriller            ',\n",
       "       '\\nAnimation, Drama, Horror            ',\n",
       "       '\\nAnimation, Action, Crime            ',\n",
       "       '\\nAdventure, Fantasy            ',\n",
       "       '\\nAction, Adventure, Family            ',\n",
       "       '\\nComedy, Horror            ',\n",
       "       '\\nDrama, History, Thriller            ',\n",
       "       '\\nBiography, Comedy, Drama            ',\n",
       "       '\\nDocumentary, Comedy            ',\n",
       "       '\\nAction, Thriller            ',\n",
       "       '\\nAnimation, Adventure, Sci-Fi            ',\n",
       "       '\\nAnimation, Biography, Drama            ',\n",
       "       '\\nAdventure, Family, Fantasy            ',\n",
       "       '\\nAction, Drama, Sci-Fi            ',\n",
       "       '\\nDrama, Family, Romance            ',\n",
       "       '\\nDrama, Horror, Sci-Fi            ',\n",
       "       '\\nDrama, Fantasy, Romance            ',\n",
       "       '\\nAction, Adventure            ',\n",
       "       '\\nAdventure, Drama, Romance            ',\n",
       "       '\\nDocumentary, Biography            ',\n",
       "       '\\nDrama, Fantasy, Horror            ',\n",
       "       '\\nDrama, Sci-Fi            ',\n",
       "       '\\nDrama, Romance, Thriller            ',\n",
       "       '\\nDocumentary, War            ',\n",
       "       '\\nAnimation, Short, Adventure            ',\n",
       "       '\\nAction, Comedy, Drama            ',\n",
       "       '\\nAction, Comedy, Fantasy            ',\n",
       "       '\\nCrime, Drama, History            ',\n",
       "       '\\nShort, Action, Comedy            ', '\\nDrama, War            ',\n",
       "       '\\nDocumentary, Biography, Music            ',\n",
       "       '\\nComedy, Drama, Fantasy            ',\n",
       "       '\\nAdventure, Comedy, Family            ',\n",
       "       '\\nDocumentary, Crime            ',\n",
       "       '\\nAdventure, Drama, Thriller            ',\n",
       "       '\\nAnimation, Drama, Fantasy            ',\n",
       "       '\\nComedy, Sport            ',\n",
       "       '\\nAction, Horror, Mystery            ',\n",
       "       '\\nDocumentary, Crime, History            ',\n",
       "       '\\nComedy, Music            ',\n",
       "       '\\nCrime, Drama, Horror            ',\n",
       "       '\\nComedy, Thriller            ',\n",
       "       '\\nDrama, Horror, Mystery            ',\n",
       "       '\\nCrime, Horror, Thriller            ',\n",
       "       '\\nAction, Sci-Fi, Thriller            ',\n",
       "       '\\nDocumentary, Music            ',\n",
       "       '\\nAnimation, Comedy, Romance            ',\n",
       "       '\\nCrime, Mystery, Thriller            ',\n",
       "       '\\nDrama, Western            ',\n",
       "       '\\nAction, Adventure, Mystery            ',\n",
       "       '\\nDocumentary, Sport            ',\n",
       "       '\\nAction, Crime, Fantasy            ',\n",
       "       '\\nDrama, Fantasy, Sci-Fi            ',\n",
       "       '\\nComedy, Drama, War            ',\n",
       "       '\\nComedy, Horror, Thriller            ',\n",
       "       '\\nDrama, Fantasy, Mystery            ',\n",
       "       '\\nDocumentary, Biography, Sport            ',\n",
       "       '\\nAction, Crime, Sci-Fi            ',\n",
       "       '\\nAction, Biography, Crime            ',\n",
       "       '\\nDocumentary, Biography, Crime            ',\n",
       "       '\\nFantasy, Horror            ',\n",
       "       '\\nAction, Drama, Horror            ',\n",
       "       '\\nCrime, Drama, Romance            ',\n",
       "       '\\nShort, Comedy, Crime            ',\n",
       "       '\\nAction, Drama, Fantasy            ',\n",
       "       '\\nComedy, Drama, Family            ',\n",
       "       '\\nAction, Crime            ',\n",
       "       '\\nAdventure, Drama, Family            ',\n",
       "       '\\nComedy, Drama, Musical            ',\n",
       "       '\\nAdventure, Drama, Horror            ',\n",
       "       '\\nReality-TV            ', '\\nAction, War            ',\n",
       "       '\\nDrama, Romance, War            ',\n",
       "       '\\nSci-Fi, Thriller            ',\n",
       "       '\\nBiography, Comedy            ',\n",
       "       '\\nComedy, Drama, Sci-Fi            ',\n",
       "       '\\nBiography, Drama, Thriller            ',\n",
       "       '\\nAdventure, Drama, Fantasy            ',\n",
       "       '\\nAnimation, Action, Fantasy            ',\n",
       "       '\\nDrama, Horror, Music            ',\n",
       "       '\\nDocumentary, History            ',\n",
       "       '\\nHistory, Sport, Thriller            ',\n",
       "       '\\nCrime, Mystery, Sci-Fi            ',\n",
       "       '\\nAnimation, Short, Comedy            ',\n",
       "       '\\nAdventure, Drama, Sci-Fi            ',\n",
       "       '\\nDocumentary, Drama, Mystery            ',\n",
       "       '\\nHorror, Sci-Fi, Thriller            ', '\\nThriller            ',\n",
       "       '\\nDocumentary, Crime, Music            ',\n",
       "       '\\nComedy, Fantasy, Musical            ',\n",
       "       '\\nDrama, History            ',\n",
       "       '\\nHorror, Mystery, Sci-Fi            ',\n",
       "       '\\nDocumentary, Biography, History            ',\n",
       "       '\\nDocumentary, Crime, Mystery            ',\n",
       "       '\\nDrama, Fantasy, Thriller            ',\n",
       "       '\\nDrama, Sport            ',\n",
       "       '\\nDrama, Romance, Sci-Fi            ',\n",
       "       '\\nDocumentary, Drama, History            ',\n",
       "       '\\nDrama, History, Sport            ',\n",
       "       '\\nDrama, Music            ', '\\nDocumentary, Drama            ',\n",
       "       '\\nShort, Drama, Sci-Fi            ',\n",
       "       '\\nCrime, History, Thriller            ',\n",
       "       '\\nDocumentary, Crime, Sport            ',\n",
       "       '\\nCrime, Horror, Mystery            ',\n",
       "       '\\nAction, Fantasy, Mystery            ',\n",
       "       '\\nGame-Show, Reality-TV, Romance            ',\n",
       "       '\\nAdventure, Drama, War            ',\n",
       "       '\\nComedy, Mystery            ',\n",
       "       '\\nAction, Horror, Thriller            ',\n",
       "       '\\nCrime, Drama, Fantasy            ',\n",
       "       '\\nComedy, Family            ',\n",
       "       '\\nAction, Crime, Horror            ',\n",
       "       '\\nHorror, Mystery            ',\n",
       "       '\\nDocumentary, Adventure            ',\n",
       "       '\\nComedy, Drama, Sport            ',\n",
       "       '\\nCrime, Drama, Sci-Fi            ',\n",
       "       '\\nDrama, Family            ',\n",
       "       '\\nAdventure, Fantasy, Romance            ',\n",
       "       '\\nAction, Adventure, Horror            ',\n",
       "       '\\nAction, Drama, Mystery            ',\n",
       "       '\\nAnimation, Crime, Drama            ',\n",
       "       '\\nDrama, Fantasy            ',\n",
       "       '\\nDrama, History, Romance            ',\n",
       "       '\\nComedy, Family, Sci-Fi            ',\n",
       "       '\\nComedy, Drama, Western            ',\n",
       "       '\\nAdventure, Drama, History            ',\n",
       "       '\\nAdventure, Comedy, Romance            ',\n",
       "       '\\nComedy, Musical            ',\n",
       "       '\\nAction, Fantasy, Thriller            ',\n",
       "       '\\nDrama, Family, Fantasy            ',\n",
       "       '\\nAction, Comedy, Horror            ',\n",
       "       '\\nAction, Mystery, Thriller            ',\n",
       "       '\\nComedy, Drama, Thriller            ',\n",
       "       '\\nAdventure, Fantasy, Sci-Fi            ',\n",
       "       '\\nDrama, Family, Reality-TV            ',\n",
       "       '\\nAnimation, Drama, Music            ',\n",
       "       '\\nComedy, Family, Music            ',\n",
       "       '\\nAction, Fantasy, Sci-Fi            ',\n",
       "       '\\nMystery, Sci-Fi, Thriller            ',\n",
       "       '\\nCrime, Sci-Fi, Thriller            ',\n",
       "       '\\nFamily, Fantasy, Horror            ',\n",
       "       '\\nAction, Drama, Sport            ',\n",
       "       '\\nDocumentary, Crime, Drama            ',\n",
       "       '\\nComedy, Fantasy            ', '\\nShort, Music            ',\n",
       "       '\\nAction, Romance, Sci-Fi            ',\n",
       "       '\\nAction, Sci-Fi            ',\n",
       "       '\\nComedy, Music, Musical            ',\n",
       "       '\\nDocumentary, History, War            '], dtype=object)"
      ]
     },
     "execution_count": 42,
     "metadata": {},
     "output_type": "execute_result"
    }
   ],
   "source": [
    "voters_outliers['GENRE'].unique()"
   ]
  },
  {
   "cell_type": "code",
   "execution_count": 43,
   "id": "4b82b1e3",
   "metadata": {},
   "outputs": [
    {
     "data": {
      "text/plain": [
       "array([7.8, 7.2, 7.4, 7.6, 7.9, 8. , 8.3, 6.5, 7.7, 7. , 7.3, 6.4, 8.2,\n",
       "       5.8, 7.5, 8.1, 6.2, 6.6, 6.9, 5.7, 6.8, 6.7, 6.3, 8.4, 8.7, 6.1,\n",
       "       7.1, 8.6, 8.8, 5.5, 5.9, 5.3, 8.9, 5.4, 5.2, 3.7, 8.5, 3.8, 4.5,\n",
       "       4.4, 5.1, 4.6, 4.7, 9.5, 9.2, 5.6, 3.5, 4.8, 9.3, 4.2, 6. , 3.4,\n",
       "       3.9, 9.1, 3.2, 5. , 4. , 3.3, 4.3, 9. , 4.9, 1.1, 9.4, 3.1, 2.8,\n",
       "       3. , 2.9, 9.6, 9.9, 9.7, 9.8])"
      ]
     },
     "execution_count": 43,
     "metadata": {},
     "output_type": "execute_result"
    }
   ],
   "source": [
    "voters_outliers['RATING'].unique()"
   ]
  },
  {
   "cell_type": "code",
   "execution_count": 44,
   "id": "322355c0",
   "metadata": {},
   "outputs": [
    {
     "data": {
      "text/plain": [
       "array([ 93.,  64.,  95.,  92., 220.,  81., 197., 115., 129., 228., 105.,\n",
       "       120., 137., 112., 149., 132.,  99., 100., 144.,  91., 124., 114.,\n",
       "       116., 109., 110., 111.,  94., 133., 107., 117., 125., 119.,  86.,\n",
       "       128., 103.,  89., 104., 118.,  84., 127., 154., 102.,  97., 106.,\n",
       "        87.,  24., 134.,  22., 150., 101.,  78.,  96., 178.,  88.,  85.,\n",
       "        60.,  75., 179., 121., 201.,  46.,  41., 122.,  42.,  25.,  98.,\n",
       "       145., 130., 151., 126.,  26.,  12.,  48., 140.,  43.,  58., 161.,\n",
       "        30., 113., 108., 331.,  20., 300.,  76., 169.,  83.,  90., 139.,\n",
       "        10.,  23., 131.,  80., 174., 557.,  53., 231., 138.,   8., 163.,\n",
       "       158.,  31., 156.,  79.,  82., 152., 264.,  51.,  45., 370., 136.,\n",
       "       147., 452., 267., 123.,  50., 135.,  17., 172.,  52., 542., 230.,\n",
       "       143., 192.,  44., 572., 403., 386., 356.,  28., 236.,  40.,  15.,\n",
       "       209., 187., 385., 296., 461.,  55., 281., 229., 395.,  68., 498.,\n",
       "        nan, 227., 148.,  49.,  32., 358., 191.,  13., 202., 494., 280.,\n",
       "       491.,  59., 270., 347.,  70.,  39., 219., 240., 298.,  56., 467.,\n",
       "       189.,  47.,  54.,  34.,  11.,  35., 363., 629., 436.,  29.,  72.,\n",
       "       333., 180.,  65.,  69.,  67.,  57.,  66.,  74.,  62.,  73.])"
      ]
     },
     "execution_count": 44,
     "metadata": {},
     "output_type": "execute_result"
    }
   ],
   "source": [
    "voters_outliers['RunTime'].unique()"
   ]
  },
  {
   "cell_type": "code",
   "execution_count": 45,
   "id": "a8606e79",
   "metadata": {},
   "outputs": [
    {
     "data": {
      "text/plain": [
       "MOVIES                                                  Ófærð\n",
       "YEAR                                                   2023.0\n",
       "GENRE                                  \\nThriller            \n",
       "RATING                                                    9.9\n",
       "ONE-LINE    \\nZeitgeist: Addendum attempts to locate the r...\n",
       "STARS       \\n    Directors:\\nZoya Akhtar, \\nDibakar Baner...\n",
       "VOTES                                                 1713028\n",
       "RunTime                                                 629.0\n",
       "dtype: object"
      ]
     },
     "execution_count": 45,
     "metadata": {},
     "output_type": "execute_result"
    }
   ],
   "source": [
    "voters_outliers.max()"
   ]
  },
  {
   "cell_type": "code",
   "execution_count": 46,
   "id": "e7a14bb5",
   "metadata": {},
   "outputs": [
    {
     "data": {
      "text/plain": [
       "MOVIES                                        BoJack Horseman\n",
       "YEAR                                                   1932.0\n",
       "GENRE                                    \\nAction            \n",
       "RATING                                                    1.1\n",
       "ONE-LINE    \\n\"The Defiant Ones\" examines the partnership ...\n",
       "STARS         \\n            \\n    Star:\\nDavid Attenborough\\n\n",
       "VOTES                                                    9236\n",
       "RunTime                                                   8.0\n",
       "dtype: object"
      ]
     },
     "execution_count": 46,
     "metadata": {},
     "output_type": "execute_result"
    }
   ],
   "source": [
    "voters_outliers.min()"
   ]
  },
  {
   "cell_type": "code",
   "execution_count": 47,
   "id": "2721642d",
   "metadata": {},
   "outputs": [],
   "source": [
    "#we can see that majority of the outliers genre are drama \n",
    "#Also the min outlier of vote is 9236 \n",
    "#This indicates that dramas have huge no. of fanbase compared to other genres\n",
    "#so we will leave the votes as it is and fill na with 0 to maintain the original dataset"
   ]
  },
  {
   "cell_type": "code",
   "execution_count": 48,
   "id": "c4ffaa35",
   "metadata": {},
   "outputs": [],
   "source": [
    "movie2['VOTES'].fillna(0,inplace= True)"
   ]
  },
  {
   "cell_type": "code",
   "execution_count": 50,
   "id": "db031aa2",
   "metadata": {},
   "outputs": [],
   "source": [
    "movie2.to_csv('movie2.csv', index=False)\n",
    "movie2.to_excel('movie2.xlsx', index=False) "
   ]
  },
  {
   "cell_type": "code",
   "execution_count": 1,
   "id": "2f363c26",
   "metadata": {},
   "outputs": [
    {
     "name": "stdout",
     "output_type": "stream",
     "text": [
      "10-15th May,2024,Friday work on datasets format.ipynb\r\n",
      "10th June,movie2-Copy1.ipynb\r\n",
      "10th June,movie2.ipynb\r\n",
      "15th April,2024.ipynb\r\n",
      "16th April,2024.ipynb\r\n",
      "17 April 2024, Wednesday.ipynb\r\n",
      "17 June, movie 2.ipynb\r\n",
      "18 April,2024, Thursday.ipynb\r\n",
      "19 April, friday.ipynb\r\n",
      "21 April,2024,sunday.ipynb\r\n",
      "23rd April, Tuesday.ipynb\r\n",
      "24th April, wednesday.ipynb\r\n",
      "25th April,2024, Thursday .ipynb\r\n",
      "26th april,2024, friday.ipynb\r\n",
      "28 April,2024,sunday.ipynb\r\n",
      "29th April, monday.ipynb\r\n",
      "2nd May ,2024, Thursday.ipynb\r\n",
      "5th June, movie.ipynb\r\n",
      "5th May,2024,Sunday.ipynb\r\n",
      "6th may, Monday.ipynb\r\n",
      "7thMay, 2024, Tuesday.ipynb\r\n",
      "8th May,wednesday.ipynb\r\n",
      "9th may, Thursday.ipynb\r\n",
      "\u001b[34mApplications\u001b[m\u001b[m/\r\n",
      "BrainTumor.csv\r\n",
      "Data Engineer Salaries.ipynb\r\n",
      "\u001b[34mDesktop\u001b[m\u001b[m/\r\n",
      "\u001b[34mDocuments\u001b[m\u001b[m/\r\n",
      "\u001b[34mDownloads\u001b[m\u001b[m/\r\n",
      "\u001b[34mHello World\u001b[m\u001b[m/\r\n",
      "\u001b[34mLibrary\u001b[m\u001b[m/\r\n",
      "Machine learning .ipynb\r\n",
      "Mall_Customers.csv\r\n",
      "\u001b[34mMovies\u001b[m\u001b[m/\r\n",
      "\u001b[34mMusic\u001b[m\u001b[m/\r\n",
      "Numpy assignment.ipynb\r\n",
      "\u001b[34mPictures\u001b[m\u001b[m/\r\n",
      "\u001b[34mPublic\u001b[m\u001b[m/\r\n",
      "Seattle2014.csv\r\n",
      "Untitled.ipynb\r\n",
      "Untitled1.ipynb\r\n",
      "WLD_RTFP_country_2023-10-02.csv\r\n",
      "WLD_RTP_details_2023-10-02.csv\r\n",
      "animal data.ipynb\r\n",
      "c4_epa_air_quality.csv\r\n",
      "california_cities.csv\r\n",
      "children-per-woman-un new.csv\r\n",
      "climate_dataset_groupwork.ipynb\r\n",
      "education .csv\r\n",
      "education.csv\r\n",
      "fixed 1.ipynb\r\n",
      "food dataset intermediate level.ipynb\r\n",
      "food.ipynb\r\n",
      "homework 2.ipynb\r\n",
      "homework baisakh 1-7.ipynb\r\n",
      "installing from library and importing.ipynb\r\n",
      "insurance data fixed.ipynb\r\n",
      "insurance data.csv\r\n",
      "iris.csv\r\n",
      "iris.data.csv\r\n",
      "k-mean.ipynb\r\n",
      "marketing_and_sales.csv\r\n",
      "modified_data.csv\r\n",
      "modified_data.xlsx\r\n",
      "movie2.csv\r\n",
      "movie2.xlsx\r\n",
      "movie3.csv\r\n",
      "movies.csv\r\n",
      "onlinefoods.csv\r\n",
      "planets.csv\r\n",
      "practice from beginning.ipynb\r\n",
      "president_heights.csv\r\n",
      "\u001b[34mpython day 1-3\u001b[m\u001b[m/\r\n",
      "salaries (2).csv\r\n",
      "stat new .ipynb\r\n",
      "stat.ipynb\r\n",
      "state-abbrevs.csv\r\n",
      "state-areas.csv\r\n",
      "state-population.csv\r\n",
      "travel_tourism_dataset.csv\r\n",
      "votes .ipynb\r\n"
     ]
    }
   ],
   "source": [
    "ls"
   ]
  },
  {
   "cell_type": "code",
   "execution_count": null,
   "id": "51582d1d",
   "metadata": {},
   "outputs": [],
   "source": []
  }
 ],
 "metadata": {
  "kernelspec": {
   "display_name": "Python 3 (ipykernel)",
   "language": "python",
   "name": "python3"
  },
  "language_info": {
   "codemirror_mode": {
    "name": "ipython",
    "version": 3
   },
   "file_extension": ".py",
   "mimetype": "text/x-python",
   "name": "python",
   "nbconvert_exporter": "python",
   "pygments_lexer": "ipython3",
   "version": "3.11.7"
  }
 },
 "nbformat": 4,
 "nbformat_minor": 5
}
